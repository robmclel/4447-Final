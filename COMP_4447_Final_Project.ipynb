{
 "cells": [
  {
   "cell_type": "markdown",
   "id": "e6fb7bab",
   "metadata": {},
   "source": [
    "### COMP 4447\n",
    "### Final Project\n",
    "### Robert McLellan & Jonathan Yun"
   ]
  },
  {
   "cell_type": "markdown",
   "id": "93ecfa1f",
   "metadata": {},
   "source": [
    "## Motivation\n",
    "•\tDataset and motivation slide (1 points)\n",
    "- How/why the dataset was collected and a description of the metadata of your dataset. "
   ]
  },
  {
   "cell_type": "markdown",
   "id": "2ebfb8b0",
   "metadata": {},
   "source": [
    "Each year the World Health Organization (WHO) provides recommendations of the makeup of seasonal flu vaccines based on regions. The WHO informs these recommendations based on data from the WHO Global Influenza Surveillance and Response System (GISRS), a global system of public health institutions that share surveillance data of circulating viruses. For the Northern hemisphere recommendations tend to be made in February ahead of the flu season, while recommendations for the Southern hemisphere are made in September. The most recent recommendations for the Northern hemisphere were released on February 24th, 2023. "
   ]
  },
  {
   "cell_type": "markdown",
   "id": "13808100",
   "metadata": {},
   "source": [
    "## Research Question\n",
    "•\tActual task definition/research question (2 points) \n",
    "- What real-world problem are you trying to solve? What are the input and output of your analysis? "
   ]
  },
  {
   "cell_type": "markdown",
   "id": "a285f97a",
   "metadata": {},
   "source": [
    "Research Question: We aim to give a recommendation on the makeup of the annual flu vaccine by analyzing influenza data provided by the WHO. We hope our recommedation aligns with the WHO recommendation, and will explore why it does/does not.\n",
    "We will be looking to investigate influenza data and determine which strands of the flu are most prevalent. We well then look into the vaccination of the influenza and based of our analysis will determine which vaccines should be recommended."
   ]
  },
  {
   "cell_type": "markdown",
   "id": "9a71ae40",
   "metadata": {},
   "source": [
    "## Literature Review\n",
    "•\tLiterature review (2 points) \n",
    "-\tWhat other work has been done in this area, and how is your work novel compared to others? "
   ]
  },
  {
   "cell_type": "markdown",
   "id": "80a52cce",
   "metadata": {},
   "source": [
    "Lit review"
   ]
  },
  {
   "cell_type": "markdown",
   "id": "1c2d5ea4",
   "metadata": {},
   "source": [
    "## Data Cleaning\n",
    "•\tQuality of cleaning (6 points, 2 points each) \n",
    "\n",
    "- Data cleaning and type conversion activity. Please share anything unusual you faced during this activity. \n",
    "- What did you do about missing values and why? Handling missing values properly is very important. \n",
    "- New feature/attribute creation and data summary statistics and interpretation."
   ]
  },
  {
   "cell_type": "markdown",
   "id": "71d317d9",
   "metadata": {},
   "source": [
    "Getting the data from WHO site, "
   ]
  },
  {
   "attachments": {},
   "cell_type": "markdown",
   "id": "b5aaf94a",
   "metadata": {},
   "source": [
    "## Visualizations\n",
    "•\tVisualization (8 points, 2 points each) \n",
    "- Data visualization activity (box plot, bar plot, violin plot, and pairplot to see relationships and distribution, etc.). \n",
    "- Describe anything you find in the data after each visualization. \n",
    "- What data visualization helped you understand about data distribution. \n",
    "- What you did about possible outlier as per data distribution visualization. (Did you confirm with your client whether it is actually an outlier or put a disclosure statement in your notebook if you decided to remove it?) "
   ]
  },
  {
   "cell_type": "markdown",
   "id": "fdf6d8b8",
   "metadata": {},
   "source": [
    "## Code"
   ]
  },
  {
   "cell_type": "code",
   "execution_count": 7,
   "id": "1d4942f2",
   "metadata": {},
   "outputs": [],
   "source": [
    "import pandas as pd\n",
    "from pandas_profiling import ProfileReport\n",
    "import numpy as np\n",
    "import matplotlib.pyplot as plt\n",
    "import seaborn as sns"
   ]
  },
  {
   "cell_type": "code",
   "execution_count": null,
   "id": "f9e74017",
   "metadata": {},
   "outputs": [],
   "source": []
  }
 ],
 "metadata": {
  "kernelspec": {
   "display_name": "Python 3 (ipykernel)",
   "language": "python",
   "name": "python3"
  },
  "language_info": {
   "codemirror_mode": {
    "name": "ipython",
    "version": 3
   },
   "file_extension": ".py",
   "mimetype": "text/x-python",
   "name": "python",
   "nbconvert_exporter": "python",
   "pygments_lexer": "ipython3",
   "version": "3.8.16"
  }
 },
 "nbformat": 4,
 "nbformat_minor": 5
}
